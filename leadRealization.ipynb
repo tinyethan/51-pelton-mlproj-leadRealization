{
  "nbformat": 4,
  "nbformat_minor": 0,
  "metadata": {
    "colab": {
      "name": "Untitled0.ipynb",
      "provenance": [],
      "toc_visible": true,
      "authorship_tag": "ABX9TyOPv95nWAv9+sMkIAJMHzWU",
      "include_colab_link": true
    },
    "kernelspec": {
      "name": "python3",
      "display_name": "Python 3"
    },
    "language_info": {
      "name": "python"
    }
  },
  "cells": [
    {
      "cell_type": "markdown",
      "metadata": {
        "id": "view-in-github",
        "colab_type": "text"
      },
      "source": [
        "<a href=\"https://colab.research.google.com/github/tinyethan/51-pelton-mlproj-leadRealization/blob/main/leadRealization.ipynb\" target=\"_parent\"><img src=\"https://colab.research.google.com/assets/colab-badge.svg\" alt=\"Open In Colab\"/></a>"
      ]
    },
    {
      "cell_type": "markdown",
      "source": [
        "# Lead Realization"
      ],
      "metadata": {
        "id": "b5DGpMNlDA80"
      }
    },
    {
      "cell_type": "markdown",
      "source": [
        "# Background\n",
        "Nashville attracrts a great deal of interest from individuals, groups, and organizations seeking a destination to meet their travel and meeting needs. The Nashville CVC aids in connecting them with local resources, moving them from an initial lead status to either definite, canceled, or lost. Traces are a written record of interactions between the Nashville CVC representative and the inquiring enity."
      ],
      "metadata": {
        "id": "ekugYXOY7DJy"
      }
    },
    {
      "cell_type": "markdown",
      "source": [
        "# Project Description\n",
        "\n",
        "This project analysizes the traces associated with each lead, identifying trends in verbage to give a quality score to each lead."
      ],
      "metadata": {
        "id": "A7pJkso58dpG"
      }
    },
    {
      "cell_type": "markdown",
      "source": [
        "# Performance Metric\n",
        "This project uses a simple accuracy metric, the number of correct predictions devided by the total number of predictions."
      ],
      "metadata": {
        "id": "mHddPDNx9Zj5"
      }
    }
  ]
}